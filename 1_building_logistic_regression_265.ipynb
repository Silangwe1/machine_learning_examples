{
  "nbformat": 4,
  "nbformat_minor": 0,
  "metadata": {
    "colab": {
      "name": "1_building_logistic_regression-265.ipynb",
      "version": "0.3.2",
      "provenance": [],
      "include_colab_link": true
    },
    "language_info": {
      "codemirror_mode": {
        "name": "ipython",
        "version": 3
      },
      "file_extension": ".py",
      "mimetype": "text/x-python",
      "name": "python",
      "nbconvert_exporter": "python",
      "pygments_lexer": "ipython3",
      "version": "3.7.1"
    },
    "kernelspec": {
      "display_name": "Python 3",
      "language": "python",
      "name": "python3"
    }
  },
  "cells": [
    {
      "cell_type": "markdown",
      "metadata": {
        "id": "view-in-github",
        "colab_type": "text"
      },
      "source": [
        "<a href=\"https://colab.research.google.com/github/Silangwe1/machine_learning_examples/blob/master/1_building_logistic_regression_265.ipynb\" target=\"_parent\"><img src=\"https://colab.research.google.com/assets/colab-badge.svg\" alt=\"Open In Colab\"/></a>"
      ]
    },
    {
      "cell_type": "markdown",
      "metadata": {
        "id": "0JmaDrlqWEFO",
        "colab_type": "text"
      },
      "source": [
        "# Building a Logistic Regression Model"
      ]
    },
    {
      "cell_type": "markdown",
      "metadata": {
        "id": "SmA-Ft_PWEFQ",
        "colab_type": "text"
      },
      "source": [
        "In this tutorial we will build a classification model to predict whether a policyholder will claim within a year. The response (target) variable will not be a continuous value like before (in Linear Regression), but rather a categorical one. \n",
        "\n",
        "The model we will consider here is called **Logistic Regression**."
      ]
    },
    {
      "cell_type": "markdown",
      "metadata": {
        "id": "C7myhCvKWEFR",
        "colab_type": "text"
      },
      "source": [
        "## Logistic Regression"
      ]
    },
    {
      "cell_type": "markdown",
      "metadata": {
        "id": "Nc7fTW56WEFS",
        "colab_type": "text"
      },
      "source": [
        "For classification, linear regression is not the right approach as it implies quantitative differences in classes, which may not be appropriate. Rather than modelling the response directly, logistic regression models the *probability* that the reponse belongs to a particular category. \n",
        "\n",
        "For example if we model the probability of a student score being above average, then we classify it as such if the probability is greater than a specific amount (i.e. we predict *above average* if $P(X) > T$, where $T$ is the threshold probability, usually 0.5 for a binary case)\n",
        "\n",
        "Since we are modelling the probability, $P(X)$ should be greater or equal to 0 and smaller or equal to 1 for it to make sense. We therefore require a function that gives outputs between 0 and 1 for all input values of $X$. For this we use the **logistic function** displayed graphical below:\n",
        "\n",
        "<img src=\"https://github.com/Samantha-movius/hello-world/blob/master/logistic_reg.png?raw=true\" alt=\"Drawing\" style=\"width: 500px;\"/>\n",
        "\n",
        "Which is defined by the function:\n",
        "\n",
        "$$P(X) = \\displaystyle \\frac{e^{\\beta_0 + \\beta_1 X}}{1+e^{\\beta_0 + \\beta_1 X}}$$\n",
        "\n",
        "After a bit of manipulation we arrive at:\n",
        "\n",
        "\\begin{align}\n",
        "1 - P(X) &= \\displaystyle \\frac{1}{1+e^{\\beta_0 + \\beta_1 X}} \\\\\n",
        "\\therefore \\log \\left( \\frac{P(X)}{1-P(X)} \\right) &= {\\beta_0 + \\beta_1 X}\n",
        "\\end{align}\n",
        "\n",
        "So the fraction on the left is being modelled as a linear function of the observations $X$, and this is known as the **log odds ratio**. Without the log sign in front of it, it is known simply as the odds ratio. While $P(X)$ is bounded between 0 and 1, the odds ratio is bounded between 0 and $\\infty$. "
      ]
    },
    {
      "cell_type": "markdown",
      "metadata": {
        "id": "gZ5dy2EIWEFT",
        "colab_type": "text"
      },
      "source": [
        "## Building a Logistic Regression Model"
      ]
    },
    {
      "cell_type": "code",
      "metadata": {
        "id": "3O5qwZsbWEFU",
        "colab_type": "code",
        "colab": {}
      },
      "source": [
        "# Import some libraries we will need\n",
        "import numpy as np\n",
        "import pandas as pd\n",
        "import matplotlib.pyplot as plt\n",
        "import seaborn as sns\n",
        "%matplotlib inline"
      ],
      "execution_count": 0,
      "outputs": []
    },
    {
      "cell_type": "code",
      "metadata": {
        "id": "ndEfT7S1WEFY",
        "colab_type": "code",
        "colab": {},
        "outputId": "c41034de-0670-4427-eaee-d0a4b36814e3"
      },
      "source": [
        "# Read data in and view first few entries\n",
        "df = pd.read_csv('claims_data.csv')\n",
        "df.head()"
      ],
      "execution_count": 0,
      "outputs": [
        {
          "output_type": "execute_result",
          "data": {
            "text/html": [
              "<div>\n",
              "<style scoped>\n",
              "    .dataframe tbody tr th:only-of-type {\n",
              "        vertical-align: middle;\n",
              "    }\n",
              "\n",
              "    .dataframe tbody tr th {\n",
              "        vertical-align: top;\n",
              "    }\n",
              "\n",
              "    .dataframe thead th {\n",
              "        text-align: right;\n",
              "    }\n",
              "</style>\n",
              "<table border=\"1\" class=\"dataframe\">\n",
              "  <thead>\n",
              "    <tr style=\"text-align: right;\">\n",
              "      <th></th>\n",
              "      <th>age</th>\n",
              "      <th>sex</th>\n",
              "      <th>bmi</th>\n",
              "      <th>steps</th>\n",
              "      <th>children</th>\n",
              "      <th>smoker</th>\n",
              "      <th>region</th>\n",
              "      <th>insurance_claim</th>\n",
              "      <th>claim_amount</th>\n",
              "    </tr>\n",
              "  </thead>\n",
              "  <tbody>\n",
              "    <tr>\n",
              "      <th>0</th>\n",
              "      <td>19</td>\n",
              "      <td>female</td>\n",
              "      <td>27.900</td>\n",
              "      <td>3009</td>\n",
              "      <td>0</td>\n",
              "      <td>yes</td>\n",
              "      <td>southwest</td>\n",
              "      <td>yes</td>\n",
              "      <td>16884.9240</td>\n",
              "    </tr>\n",
              "    <tr>\n",
              "      <th>1</th>\n",
              "      <td>18</td>\n",
              "      <td>male</td>\n",
              "      <td>33.770</td>\n",
              "      <td>3008</td>\n",
              "      <td>1</td>\n",
              "      <td>no</td>\n",
              "      <td>southeast</td>\n",
              "      <td>yes</td>\n",
              "      <td>1725.5523</td>\n",
              "    </tr>\n",
              "    <tr>\n",
              "      <th>2</th>\n",
              "      <td>28</td>\n",
              "      <td>male</td>\n",
              "      <td>33.000</td>\n",
              "      <td>3009</td>\n",
              "      <td>3</td>\n",
              "      <td>no</td>\n",
              "      <td>southeast</td>\n",
              "      <td>no</td>\n",
              "      <td>0.0000</td>\n",
              "    </tr>\n",
              "    <tr>\n",
              "      <th>3</th>\n",
              "      <td>33</td>\n",
              "      <td>male</td>\n",
              "      <td>22.705</td>\n",
              "      <td>10009</td>\n",
              "      <td>0</td>\n",
              "      <td>no</td>\n",
              "      <td>northwest</td>\n",
              "      <td>no</td>\n",
              "      <td>0.0000</td>\n",
              "    </tr>\n",
              "    <tr>\n",
              "      <th>4</th>\n",
              "      <td>32</td>\n",
              "      <td>male</td>\n",
              "      <td>28.880</td>\n",
              "      <td>8010</td>\n",
              "      <td>0</td>\n",
              "      <td>no</td>\n",
              "      <td>northwest</td>\n",
              "      <td>yes</td>\n",
              "      <td>3866.8552</td>\n",
              "    </tr>\n",
              "  </tbody>\n",
              "</table>\n",
              "</div>"
            ],
            "text/plain": [
              "   age     sex     bmi  steps  children smoker     region insurance_claim  \\\n",
              "0   19  female  27.900   3009         0    yes  southwest             yes   \n",
              "1   18    male  33.770   3008         1     no  southeast             yes   \n",
              "2   28    male  33.000   3009         3     no  southeast              no   \n",
              "3   33    male  22.705  10009         0     no  northwest              no   \n",
              "4   32    male  28.880   8010         0     no  northwest             yes   \n",
              "\n",
              "   claim_amount  \n",
              "0    16884.9240  \n",
              "1     1725.5523  \n",
              "2        0.0000  \n",
              "3        0.0000  \n",
              "4     3866.8552  "
            ]
          },
          "metadata": {
            "tags": []
          },
          "execution_count": 2
        }
      ]
    },
    {
      "cell_type": "markdown",
      "metadata": {
        "id": "nqnEB6woWEFc",
        "colab_type": "text"
      },
      "source": [
        "### Pre-Processing"
      ]
    },
    {
      "cell_type": "markdown",
      "metadata": {
        "id": "QfeWeppRWEFd",
        "colab_type": "text"
      },
      "source": [
        "We will start by pre-processing the data so that we can run it through the algorithm. Just to recap, this involves:\n",
        "* Splitting the data into features and labels\n",
        "* Transforming the categorical features \n",
        "* Splitting the data into training and testing data"
      ]
    },
    {
      "cell_type": "code",
      "metadata": {
        "id": "-uwi2js1WEFe",
        "colab_type": "code",
        "colab": {}
      },
      "source": [
        "# Lables\n",
        "y = df['insurance_claim']\n",
        "\n",
        "# Features\n",
        "X = df.drop(['insurance_claim', 'claim_amount'], axis=1)"
      ],
      "execution_count": 0,
      "outputs": []
    },
    {
      "cell_type": "code",
      "metadata": {
        "id": "XumPvTDJWEFh",
        "colab_type": "code",
        "colab": {}
      },
      "source": [
        "# Transforming the Features\n",
        "X_transformed = pd.get_dummies(X, drop_first=True)"
      ],
      "execution_count": 0,
      "outputs": []
    },
    {
      "cell_type": "code",
      "metadata": {
        "id": "WM7xhMXvWEFl",
        "colab_type": "code",
        "colab": {}
      },
      "source": [
        "from sklearn.model_selection import train_test_split"
      ],
      "execution_count": 0,
      "outputs": []
    },
    {
      "cell_type": "code",
      "metadata": {
        "id": "wDixd-r1WEFo",
        "colab_type": "code",
        "colab": {}
      },
      "source": [
        "X_train, X_test, y_train, y_test = train_test_split(X_transformed, y, test_size=0.2, random_state=50)"
      ],
      "execution_count": 0,
      "outputs": []
    },
    {
      "cell_type": "markdown",
      "metadata": {
        "id": "tad_ggmCWEFq",
        "colab_type": "text"
      },
      "source": [
        "Now our data is ready. Let's train the logistic regression model."
      ]
    },
    {
      "cell_type": "markdown",
      "metadata": {
        "id": "N5zMOroFWEFr",
        "colab_type": "text"
      },
      "source": [
        "### Training"
      ]
    },
    {
      "cell_type": "markdown",
      "metadata": {
        "id": "cszQmO7NWEFs",
        "colab_type": "text"
      },
      "source": [
        "We import LogisticRegression from sklearn.linear_model. "
      ]
    },
    {
      "cell_type": "code",
      "metadata": {
        "id": "bA0t7_eyWEFs",
        "colab_type": "code",
        "colab": {}
      },
      "source": [
        "from sklearn.linear_model import LogisticRegression"
      ],
      "execution_count": 0,
      "outputs": []
    },
    {
      "cell_type": "markdown",
      "metadata": {
        "id": "LMrT0g27WEFv",
        "colab_type": "text"
      },
      "source": [
        "We create an instance of the `LogisticRegression()` object using the default parameters for now. In the following tutorial we'll look at varying one of the parameters in an attempt to improve model performance."
      ]
    },
    {
      "cell_type": "code",
      "metadata": {
        "id": "yeZjwd9NWEFx",
        "colab_type": "code",
        "colab": {}
      },
      "source": [
        "lm = LogisticRegression()"
      ],
      "execution_count": 0,
      "outputs": []
    },
    {
      "cell_type": "markdown",
      "metadata": {
        "id": "GEzQJLCkWEFz",
        "colab_type": "text"
      },
      "source": [
        "We use the `fit()` method to train the model."
      ]
    },
    {
      "cell_type": "code",
      "metadata": {
        "id": "vX-hRH2VWEF0",
        "colab_type": "code",
        "colab": {},
        "outputId": "be0853ea-13b9-4387-b23e-61b5d745a233"
      },
      "source": [
        "lm.fit(X_train,y_train)"
      ],
      "execution_count": 0,
      "outputs": [
        {
          "output_type": "stream",
          "text": [
            "C:\\Users\\User\\Anaconda3\\lib\\site-packages\\sklearn\\linear_model\\logistic.py:433: FutureWarning: Default solver will be changed to 'lbfgs' in 0.22. Specify a solver to silence this warning.\n",
            "  FutureWarning)\n"
          ],
          "name": "stderr"
        },
        {
          "output_type": "execute_result",
          "data": {
            "text/plain": [
              "LogisticRegression(C=1.0, class_weight=None, dual=False, fit_intercept=True,\n",
              "          intercept_scaling=1, max_iter=100, multi_class='warn',\n",
              "          n_jobs=None, penalty='l2', random_state=None, solver='warn',\n",
              "          tol=0.0001, verbose=0, warm_start=False)"
            ]
          },
          "metadata": {
            "tags": []
          },
          "execution_count": 9
        }
      ]
    },
    {
      "cell_type": "markdown",
      "metadata": {
        "id": "44cuGXyvWEF3",
        "colab_type": "text"
      },
      "source": [
        "Now that the model is trained, we can extract the parameters. The parameters consist of the intercept and the coefficients related to the features. These parameters can be used to predict future claims given the features."
      ]
    },
    {
      "cell_type": "markdown",
      "metadata": {
        "id": "45G1ya9PWEF4",
        "colab_type": "text"
      },
      "source": [
        "Intercept"
      ]
    },
    {
      "cell_type": "code",
      "metadata": {
        "id": "RUeECB0xWEF5",
        "colab_type": "code",
        "colab": {},
        "outputId": "b8cdc7b4-5c45-486a-80b8-ab015f17c876"
      },
      "source": [
        "lm.intercept_[0]"
      ],
      "execution_count": 0,
      "outputs": [
        {
          "output_type": "execute_result",
          "data": {
            "text/plain": [
              "-3.6037659420897197"
            ]
          },
          "metadata": {
            "tags": []
          },
          "execution_count": 10
        }
      ]
    },
    {
      "cell_type": "markdown",
      "metadata": {
        "id": "rOgyfDnaWEF8",
        "colab_type": "text"
      },
      "source": [
        "Coefficients"
      ]
    },
    {
      "cell_type": "code",
      "metadata": {
        "id": "wzprqHKlWEF9",
        "colab_type": "code",
        "colab": {},
        "outputId": "9588d306-ff9f-4b97-df6a-6e7fe9cc68d0"
      },
      "source": [
        "coeff_df = pd.DataFrame(lm.coef_.T,X_transformed.columns,columns=['Coefficient'])\n",
        "coeff_df"
      ],
      "execution_count": 0,
      "outputs": [
        {
          "output_type": "execute_result",
          "data": {
            "text/html": [
              "<div>\n",
              "<style scoped>\n",
              "    .dataframe tbody tr th:only-of-type {\n",
              "        vertical-align: middle;\n",
              "    }\n",
              "\n",
              "    .dataframe tbody tr th {\n",
              "        vertical-align: top;\n",
              "    }\n",
              "\n",
              "    .dataframe thead th {\n",
              "        text-align: right;\n",
              "    }\n",
              "</style>\n",
              "<table border=\"1\" class=\"dataframe\">\n",
              "  <thead>\n",
              "    <tr style=\"text-align: right;\">\n",
              "      <th></th>\n",
              "      <th>Coefficient</th>\n",
              "    </tr>\n",
              "  </thead>\n",
              "  <tbody>\n",
              "    <tr>\n",
              "      <th>age</th>\n",
              "      <td>0.019738</td>\n",
              "    </tr>\n",
              "    <tr>\n",
              "      <th>bmi</th>\n",
              "      <td>0.168708</td>\n",
              "    </tr>\n",
              "    <tr>\n",
              "      <th>steps</th>\n",
              "      <td>-0.000137</td>\n",
              "    </tr>\n",
              "    <tr>\n",
              "      <th>children</th>\n",
              "      <td>-1.256102</td>\n",
              "    </tr>\n",
              "    <tr>\n",
              "      <th>sex_male</th>\n",
              "      <td>-0.012538</td>\n",
              "    </tr>\n",
              "    <tr>\n",
              "      <th>smoker_yes</th>\n",
              "      <td>3.016435</td>\n",
              "    </tr>\n",
              "    <tr>\n",
              "      <th>region_northwest</th>\n",
              "      <td>-0.510453</td>\n",
              "    </tr>\n",
              "    <tr>\n",
              "      <th>region_southeast</th>\n",
              "      <td>-0.155735</td>\n",
              "    </tr>\n",
              "    <tr>\n",
              "      <th>region_southwest</th>\n",
              "      <td>-0.157182</td>\n",
              "    </tr>\n",
              "  </tbody>\n",
              "</table>\n",
              "</div>"
            ],
            "text/plain": [
              "                  Coefficient\n",
              "age                  0.019738\n",
              "bmi                  0.168708\n",
              "steps               -0.000137\n",
              "children            -1.256102\n",
              "sex_male            -0.012538\n",
              "smoker_yes           3.016435\n",
              "region_northwest    -0.510453\n",
              "region_southeast    -0.155735\n",
              "region_southwest    -0.157182"
            ]
          },
          "metadata": {
            "tags": []
          },
          "execution_count": 11
        }
      ]
    },
    {
      "cell_type": "markdown",
      "metadata": {
        "id": "L1arb4SQWEF_",
        "colab_type": "text"
      },
      "source": [
        "What can you infer from the coefficients above?"
      ]
    },
    {
      "cell_type": "markdown",
      "metadata": {
        "id": "5AaRP2UYWEGA",
        "colab_type": "text"
      },
      "source": [
        "### Predicting\n",
        "As we did before in Linear Regression, we use the predict function to obtain predictions from our test data."
      ]
    },
    {
      "cell_type": "code",
      "metadata": {
        "id": "nLlUAwS7WEGB",
        "colab_type": "code",
        "colab": {}
      },
      "source": [
        "pred_lm = lm.predict(X_test)"
      ],
      "execution_count": 0,
      "outputs": []
    },
    {
      "cell_type": "markdown",
      "metadata": {
        "id": "mu8_hqvhWEGD",
        "colab_type": "text"
      },
      "source": [
        "### Testing"
      ]
    },
    {
      "cell_type": "markdown",
      "metadata": {
        "id": "PTkO-aFvWEGE",
        "colab_type": "text"
      },
      "source": [
        "For testing the results we will look at two different metrics called **confusion matrix** and **classification report**."
      ]
    },
    {
      "cell_type": "markdown",
      "metadata": {
        "id": "ABIcizI0WEGF",
        "colab_type": "text"
      },
      "source": [
        "#### [Confusion Matrix](http://scikit-learn.org/stable/modules/generated/sklearn.metrics.confusion_matrix.html)"
      ]
    },
    {
      "cell_type": "markdown",
      "metadata": {
        "id": "OcQ6kqlnWEGG",
        "colab_type": "text"
      },
      "source": [
        "![title](https://github.com/Explore-AI/Public-Data/blob/master/Data/matrix2.png?raw=true)\n",
        "\n",
        "A confusion matrix is a table that is often used to describe the performance of a classification model (or \"classifier\") on a set of test data for which the true values are known, and the format of this is displayed in the image above. The confusion matrix itself is relatively simple to understand, but the related terminology can be confusing. (Thanks [DataSchool](http://www.dataschool.io/simple-guide-to-confusion-matrix-terminology/) for the help in explaining!)"
      ]
    },
    {
      "cell_type": "markdown",
      "metadata": {
        "id": "tEw5lgAMWEGH",
        "colab_type": "text"
      },
      "source": [
        "Let's now define the most basic terms, which are whole numbers (not rates):\n",
        "\n",
        "* true positives (TP) : These are cases in which we predicted a claim, and they did indeed claim.\n",
        "* true negatives (TN) : We predicted no claim, and they did indeed not claim.\n",
        "* false positives (FP): We predicted claim, but they actually didn't claim (Also known as a **Type I error**).\n",
        "* false negatives (FN): We predicted no claim, but they actually claimed. (Also known as a **Type II error**).\n",
        "\n",
        "From the confusion matrix, we can determine the model **accuracy** as (TP+TN)/(TP+TN+FP+FN) which is the proportion of data  that was correctly classified."
      ]
    },
    {
      "cell_type": "markdown",
      "metadata": {
        "id": "dR-hij4mWEGJ",
        "colab_type": "text"
      },
      "source": [
        "Now let's import the `confusion_matrix` object to check the results."
      ]
    },
    {
      "cell_type": "code",
      "metadata": {
        "id": "f6I8EDm8WEGK",
        "colab_type": "code",
        "colab": {}
      },
      "source": [
        "from sklearn.metrics import confusion_matrix"
      ],
      "execution_count": 0,
      "outputs": []
    },
    {
      "cell_type": "markdown",
      "metadata": {
        "id": "iu7YQn2rWEGQ",
        "colab_type": "text"
      },
      "source": [
        "The confusion matrix takes in two arguments: the unseen y_test data as well as our predictions."
      ]
    },
    {
      "cell_type": "code",
      "metadata": {
        "id": "qDUFvAvgWEGR",
        "colab_type": "code",
        "colab": {},
        "outputId": "791460e2-eaf5-4ff6-9a2d-17a70df52502"
      },
      "source": [
        "confusion_matrix(y_test, pred_lm)"
      ],
      "execution_count": 0,
      "outputs": [
        {
          "output_type": "execute_result",
          "data": {
            "text/plain": [
              "array([[ 97,  19],\n",
              "       [ 17, 135]], dtype=int64)"
            ]
          },
          "metadata": {
            "tags": []
          },
          "execution_count": 14
        }
      ]
    },
    {
      "cell_type": "markdown",
      "metadata": {
        "id": "jIH2ILZDWEGW",
        "colab_type": "text"
      },
      "source": [
        "This doesn't look that nice, so we can put this matrix into a dataframe together with the appropriate labels to make it more clear which values relate to which metric. The matrix works alphabetically, so the first row/column refers to 'no' claim since  it comes before 'yes' alphabetically"
      ]
    },
    {
      "cell_type": "code",
      "metadata": {
        "id": "3kJYYiHIWEGZ",
        "colab_type": "code",
        "colab": {},
        "outputId": "b02b8a0c-dcf0-4971-bdad-598c943c1314"
      },
      "source": [
        "labels = ['No claim', 'Claim']\n",
        "\n",
        "pd.DataFrame(data=confusion_matrix(y_test, pred_lm), index=labels, columns=labels)"
      ],
      "execution_count": 0,
      "outputs": [
        {
          "output_type": "execute_result",
          "data": {
            "text/html": [
              "<div>\n",
              "<style scoped>\n",
              "    .dataframe tbody tr th:only-of-type {\n",
              "        vertical-align: middle;\n",
              "    }\n",
              "\n",
              "    .dataframe tbody tr th {\n",
              "        vertical-align: top;\n",
              "    }\n",
              "\n",
              "    .dataframe thead th {\n",
              "        text-align: right;\n",
              "    }\n",
              "</style>\n",
              "<table border=\"1\" class=\"dataframe\">\n",
              "  <thead>\n",
              "    <tr style=\"text-align: right;\">\n",
              "      <th></th>\n",
              "      <th>No claim</th>\n",
              "      <th>Claim</th>\n",
              "    </tr>\n",
              "  </thead>\n",
              "  <tbody>\n",
              "    <tr>\n",
              "      <th>No claim</th>\n",
              "      <td>97</td>\n",
              "      <td>19</td>\n",
              "    </tr>\n",
              "    <tr>\n",
              "      <th>Claim</th>\n",
              "      <td>17</td>\n",
              "      <td>135</td>\n",
              "    </tr>\n",
              "  </tbody>\n",
              "</table>\n",
              "</div>"
            ],
            "text/plain": [
              "          No claim  Claim\n",
              "No claim        97     19\n",
              "Claim           17    135"
            ]
          },
          "metadata": {
            "tags": []
          },
          "execution_count": 15
        }
      ]
    },
    {
      "cell_type": "markdown",
      "metadata": {
        "id": "P5G-SZFxWEGb",
        "colab_type": "text"
      },
      "source": [
        "Much better. The rows represent the actual output, while the columns indicate the predicted output. We see that we have classified 97+135=233 claims correctly, and 17+19=36 claims incorrectly.\n",
        "\n",
        "#### [Classification reports](http://scikit-learn.org/stable/modules/generated/sklearn.metrics.classification_report.html)"
      ]
    },
    {
      "cell_type": "markdown",
      "metadata": {
        "id": "sCzCqpp0WEGc",
        "colab_type": "text"
      },
      "source": [
        "The Classification Report gives us more information on where our model is going wrong - looking specifically at the performance caused by Type I & II errors.  The following metrics are calculated as part of the classification report. \n",
        "* Precision: When it predicts yes, how often is it correct? \n",
        "\n",
        "$ Precision = \\frac{True Positive}{Predicted Positive} $\n",
        "\n",
        "* Recall: When the outcome is actually True, how often do we predict it so?\n",
        "\n",
        "$ Recall = \\frac{True Positive}{Condition True}$\n",
        "\n",
        "* [F1 score](https://en.wikipedia.org/wiki/F1_score): = weighted average of Precision and Recall. \n",
        "\n",
        "$F_1 = 2 \\times \\frac {precision \\times recall }{precision + recall }$"
      ]
    },
    {
      "cell_type": "markdown",
      "metadata": {
        "id": "eXxQF0_mWEGe",
        "colab_type": "text"
      },
      "source": [
        "Now let's import the `classification_report` object to check the results."
      ]
    },
    {
      "cell_type": "code",
      "metadata": {
        "id": "xdKSn4TbWEGf",
        "colab_type": "code",
        "colab": {}
      },
      "source": [
        "from sklearn.metrics import classification_report"
      ],
      "execution_count": 0,
      "outputs": []
    },
    {
      "cell_type": "markdown",
      "metadata": {
        "id": "s3HwG0AwWEGh",
        "colab_type": "text"
      },
      "source": [
        "Similarly to the confusion matrix, the classification matrix takes in two arguments: the unseen y_test data as well as our predictions."
      ]
    },
    {
      "cell_type": "code",
      "metadata": {
        "id": "8HhOrH-EWEGh",
        "colab_type": "code",
        "colab": {},
        "outputId": "f22ef487-5904-48f4-8246-c24db8e03c84"
      },
      "source": [
        "print('Classification Report')\n",
        "print(classification_report(y_test, pred_lm, target_names=['No claim', 'Claim']))"
      ],
      "execution_count": 0,
      "outputs": [
        {
          "output_type": "stream",
          "text": [
            "Classification Report\n",
            "              precision    recall  f1-score   support\n",
            "\n",
            "    No claim       0.85      0.84      0.84       116\n",
            "       Claim       0.88      0.89      0.88       152\n",
            "\n",
            "   micro avg       0.87      0.87      0.87       268\n",
            "   macro avg       0.86      0.86      0.86       268\n",
            "weighted avg       0.87      0.87      0.87       268\n",
            "\n"
          ],
          "name": "stdout"
        }
      ]
    },
    {
      "cell_type": "markdown",
      "metadata": {
        "id": "GwBAASJNWEGk",
        "colab_type": "text"
      },
      "source": [
        "Our accuracy is 87%, which is good. Can we improve this number? And what can we do to try and improve it? In the next tutorial we will look at ways to increase the accuracy and select the best model. \n",
        "\n",
        "Before we move on to this, let's consider the advantages and disadvantages of logistic regression."
      ]
    },
    {
      "cell_type": "markdown",
      "metadata": {
        "id": "-Mj6QgSuWEGl",
        "colab_type": "text"
      },
      "source": [
        "## Advantages & Disadvantages of Logistic Regression"
      ]
    },
    {
      "cell_type": "markdown",
      "metadata": {
        "id": "C7H7XAn9WEGl",
        "colab_type": "text"
      },
      "source": [
        "**Advantages**\n",
        "\n",
        "* Convenient probability scores for observations (probability of each outcome is transformed into a classification)\n",
        "* Not a major issue if there are dependance between features (much worse with linear regression)\n",
        "\n",
        "**Disadvantages**\n",
        "\n",
        "* Can overfit when data is unbalanced (i.e. one label category dominates)\n",
        "* Doesn't handle large number of categorical features/variables well"
      ]
    }
  ]
}